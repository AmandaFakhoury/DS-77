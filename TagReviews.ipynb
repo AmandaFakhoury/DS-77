{
 "cells": [
  {
   "cell_type": "markdown",
   "metadata": {},
   "source": [
    "### Tagging Number of New Reviews as either Positive / Negative / No Change for Visulization Purposes. This code can be used for Either Weekly / Monthly or Yearly Statistics "
   ]
  },
  {
   "cell_type": "code",
   "execution_count": null,
   "metadata": {},
   "outputs": [],
   "source": [
    "#Import Libraries \n",
    "import pandas as pd"
   ]
  },
  {
   "cell_type": "code",
   "execution_count": null,
   "metadata": {},
   "outputs": [],
   "source": [
    "#Read Review Count Statistics DataFrame \n",
    "df = pd.read_csv(\"2020_Reviews.csv\")"
   ]
  },
  {
   "cell_type": "code",
   "execution_count": null,
   "metadata": {},
   "outputs": [],
   "source": [
    "rcTag = [] \n",
    "for i in df['ReviewCount']: \n",
    "    \n",
    "    if i < 0:\n",
    "        rcTag.append('Negative')\n",
    "    elif i > 0: \n",
    "        rcTag.append(\"Positive\")\n",
    "    else: \n",
    "        rcTag.append(\"NoChange\")"
   ]
  },
  {
   "cell_type": "code",
   "execution_count": null,
   "metadata": {},
   "outputs": [],
   "source": [
    "rc1Tag = [] \n",
    "for i in df['review_1Star']: \n",
    "    \n",
    "    if i < 0:\n",
    "        rc1Tag.append('Negative')\n",
    "    elif i > 0: \n",
    "        rc1Tag.append(\"Positive\")\n",
    "    else: \n",
    "        rc1Tag.append(\"NoChange\")"
   ]
  },
  {
   "cell_type": "code",
   "execution_count": null,
   "metadata": {},
   "outputs": [],
   "source": [
    "rc2Tag = [] \n",
    "for i in df['review_2Star']: \n",
    "    \n",
    "    if i < 0:\n",
    "        rc2Tag.append('Negative')\n",
    "    elif i > 0: \n",
    "        rc2Tag.append(\"Positive\")\n",
    "    else: \n",
    "        rc2Tag.append(\"NoChange\")"
   ]
  },
  {
   "cell_type": "code",
   "execution_count": null,
   "metadata": {},
   "outputs": [],
   "source": [
    "rc3Tag = [] \n",
    "for i in df['review_3Star']: \n",
    "    \n",
    "    if i < 0:\n",
    "        rc3Tag.append('Negative')\n",
    "    elif i > 0: \n",
    "        rc3Tag.append(\"Positive\")\n",
    "    else: \n",
    "        rc3Tag.append(\"NoChange\")"
   ]
  },
  {
   "cell_type": "code",
   "execution_count": null,
   "metadata": {},
   "outputs": [],
   "source": [
    "rc4Tag = [] \n",
    "for i in df['review_4Star']: \n",
    "    \n",
    "    if i < 0:\n",
    "        rc4Tag.append('Negative')\n",
    "    elif i > 0: \n",
    "        rc4Tag.append(\"Positive\")\n",
    "    else: \n",
    "        rc4Tag.append(\"NoChange\")"
   ]
  },
  {
   "cell_type": "code",
   "execution_count": null,
   "metadata": {},
   "outputs": [],
   "source": [
    "rc5Tag = [] \n",
    "for i in df['review_5Star']: \n",
    "    \n",
    "    if i < 0:\n",
    "        rc5Tag.append('Negative')\n",
    "    elif i > 0: \n",
    "        rc5Tag.append(\"Positive\")\n",
    "    else: \n",
    "        rc5Tag.append(\"NoChange\")"
   ]
  },
  {
   "cell_type": "code",
   "execution_count": null,
   "metadata": {},
   "outputs": [],
   "source": [
    "df['RCTag'] = rcTag\n",
    "df['RC1Tag'] = rc1Tag\n",
    "df['RC2Tag'] = rc2Tag\n",
    "df['RC3Tag'] = rc3Tag\n",
    "df['RC4Tag'] = rc4Tag\n",
    "df['RC5Tag'] = rc5Tag"
   ]
  },
  {
   "cell_type": "code",
   "execution_count": null,
   "metadata": {},
   "outputs": [],
   "source": [
    "df.to_csv(\"2020_Reviews1.csv\", index = False)"
   ]
  },
  {
   "cell_type": "code",
   "execution_count": null,
   "metadata": {},
   "outputs": [],
   "source": []
  }
 ],
 "metadata": {
  "kernelspec": {
   "display_name": "Python 3",
   "language": "python",
   "name": "python3"
  },
  "language_info": {
   "codemirror_mode": {
    "name": "ipython",
    "version": 3
   },
   "file_extension": ".py",
   "mimetype": "text/x-python",
   "name": "python",
   "nbconvert_exporter": "python",
   "pygments_lexer": "ipython3",
   "version": "3.7.6"
  }
 },
 "nbformat": 4,
 "nbformat_minor": 4
}
