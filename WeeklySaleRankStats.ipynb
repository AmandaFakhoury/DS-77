{
 "cells": [
  {
   "cell_type": "code",
   "execution_count": null,
   "metadata": {},
   "outputs": [],
   "source": [
    "#Importing Libraries\n",
    "import pandas as pd"
   ]
  },
  {
   "cell_type": "code",
   "execution_count": null,
   "metadata": {},
   "outputs": [],
   "source": [
    "#Reading Dataset \n",
    "df = pd.read_csv(\"Kaplan.csv\")"
   ]
  },
  {
   "cell_type": "code",
   "execution_count": null,
   "metadata": {},
   "outputs": [],
   "source": [
    "#List of providers\n",
    "providers = list(df['Provider_Name'].unique())\n",
    "providers"
   ]
  },
  {
   "cell_type": "code",
   "execution_count": null,
   "metadata": {},
   "outputs": [],
   "source": [
    "#Top 10  for week \n",
    "Top10_Rank = [] \n",
    "for prov in providers: \n",
    "    dp = df.loc[df['Provider_Name']  == prov]\n",
    "    \n",
    "    db = dp.loc[dp['category'] == 'Books']\n",
    "    \n",
    "    db = db[['name', 'Provider_Name','Day','ean_13', 'sales_rank']]\n",
    "    \n",
    "    eans = list(db['ean_13'].unique())\n",
    "    \n",
    "    avgrank = [] \n",
    "    for i in eans: \n",
    "        d = db.loc[db['ean_13'] == i]\n",
    "        avgrank.append(d['sales_rank'].mean())\n",
    "        \n",
    "    dat = pd.DataFrame({'ean_13': eans, \n",
    "                       'Avg Sale Rank': avgrank})\n",
    "    \n",
    "    dat['Provider_Name'] = prov\n",
    "    \n",
    "    \n",
    "    top10 = [] \n",
    "    top10.append(dat.nsmallest(10, 'Avg Sale Rank'))\n",
    "    \n",
    "    data = pd.concat(top10)\n",
    "    \n",
    "    Top10_Rank.append(data)"
   ]
  },
  {
   "cell_type": "code",
   "execution_count": null,
   "metadata": {},
   "outputs": [],
   "source": [
    "#Concat Data and adding Domain \n",
    "Top10Rank_Stats = pd.concat(Top10_Rank)\n",
    "Top10Rank_Stats['Domain'] = 'Kaplan'\n",
    "Top10Rank_Stats.to_csv(\"June_Top10RankStats.csv\" , index = False)"
   ]
  },
  {
   "cell_type": "code",
   "execution_count": null,
   "metadata": {},
   "outputs": [],
   "source": [
    "#Number of titles have a rank of 100 or lower any category \n",
    "Stats_2 = [] \n",
    "for prov in providers: \n",
    "    dp = df.loc[df['Provider_Name']  == prov]\n",
    "    \n",
    "    days = list(dp['Day'].unique())\n",
    "    \n",
    "    numbtitles = [] \n",
    "    \n",
    "    for day in days: \n",
    "        dp_s_d = dp.loc[dp['Day'] == day]\n",
    "        \n",
    "        n = len(dp_s_d.loc[dp_s_d['sales_rank'] <= 100]['ean_13'].unique())\n",
    "        \n",
    "        \n",
    "        numbtitles.append(n)\n",
    "    \n",
    "    data = pd.DataFrame({'Days': days, \n",
    "                        'Number of Titles with Rank <= 100' : numbtitles})\n",
    "    \n",
    "    data['Provider_Name'] = prov\n",
    "        \n",
    "    \n",
    "    Stats_2.append(data)"
   ]
  },
  {
   "cell_type": "code",
   "execution_count": null,
   "metadata": {},
   "outputs": [],
   "source": [
    "#Concat Data and adding Domain \n",
    "Top100_Stats = pd.concat(Stats_2)\n",
    "Top100_Stats['Domain'] = 'Kaplan'\n",
    "Top100_Stats.to_csv(\"June_Top100Stats.csv\" , index = False)"
   ]
  },
  {
   "cell_type": "code",
   "execution_count": null,
   "metadata": {},
   "outputs": [],
   "source": [
    "with pd.ExcelWriter('Kaplan_SaleRankStats_DS77_June2020.xlsx') as writer:  \n",
    "    Top10Rank_Stats.to_excel(writer, sheet_name='Top 10 titles Week Rank (Books)')\n",
    "    Top100_Stats.to_excel(writer, sheet_name = 'Number of Titles Rank <= 100')"
   ]
  },
  {
   "cell_type": "code",
   "execution_count": null,
   "metadata": {},
   "outputs": [],
   "source": []
  }
 ],
 "metadata": {
  "kernelspec": {
   "display_name": "Python 3",
   "language": "python",
   "name": "python3"
  },
  "language_info": {
   "codemirror_mode": {
    "name": "ipython",
    "version": 3
   },
   "file_extension": ".py",
   "mimetype": "text/x-python",
   "name": "python",
   "nbconvert_exporter": "python",
   "pygments_lexer": "ipython3",
   "version": "3.7.6"
  }
 },
 "nbformat": 4,
 "nbformat_minor": 4
}
