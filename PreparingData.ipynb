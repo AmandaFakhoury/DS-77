{
 "cells": [
  {
   "cell_type": "markdown",
   "metadata": {},
   "source": [
    "## This can work for either Weekly /  Monthly / Yearly data ; If data is raw You can fix the date column as well as choosing specific columns and getting the provider name "
   ]
  },
  {
   "cell_type": "code",
   "execution_count": null,
   "metadata": {},
   "outputs": [],
   "source": [
    "#Import pandas as pd\n",
    "import pandas as pd"
   ]
  },
  {
   "cell_type": "code",
   "execution_count": null,
   "metadata": {},
   "outputs": [],
   "source": [
    "#Reading Dataframe\n",
    "df = pd.read_csv(\"June2020.csv\")"
   ]
  },
  {
   "cell_type": "code",
   "execution_count": null,
   "metadata": {},
   "outputs": [],
   "source": [
    "#Getting Year / Month and Day \n",
    "df['started_at'] = pd.to_datetime(df['started_at'] , dayfirst = True)\n",
    "df['Year'] = df['started_at'].dt.year\n",
    "df['Month'] = df['started_at'].dt.month \n",
    "df['Day'] = df['started_at'].dt.day"
   ]
  },
  {
   "cell_type": "code",
   "execution_count": null,
   "metadata": {},
   "outputs": [],
   "source": [
    "#Columns of interest \n",
    "df = df[['id', 'domain_id', 'found', 'provider_id', 'ean_13', 'identifier', 'title',\n",
    "       'author', 'type', 'list_price', 'for_sale_price',\n",
    "       'primary_sale_type', 'availability', 'available_new', 'has_buy_button',\n",
    "       'sold_by_third_party', 'seller_marketplace_id',\n",
    "       'seller_name', 'stock_details', 'fulfilled_by_third_party',\n",
    "       'marketplace_sellers_new', 'marketplace_sellers_total','review_count', 'review_stars',\n",
    "       'review_stars_possible', \n",
    "        'updated_at', 'product_id', 'has_amazon_prime',\n",
    "       'new_price', 'new_seller_name', 'new_seller_marketplace_id',\n",
    "       'used_price', 'used_seller_name', 'used_seller_marketplace_id',\n",
    "       'rental_price', 'rental_seller_name', 'rental_seller_marketplace_id',\n",
    "       'page_count', 'publication_date', 'series', 'edition', 'reviews_1_star',\n",
    "       'reviews_2_star', 'reviews_3_star', 'reviews_4_star', 'reviews_5_star', 'started_at', 'name', 'Year', 'Month', 'Day']]\n",
    "df.head(1)"
   ]
  },
  {
   "cell_type": "code",
   "execution_count": null,
   "metadata": {},
   "outputs": [],
   "source": [
    "df['provider_id'].unique()"
   ]
  },
  {
   "cell_type": "code",
   "execution_count": null,
   "metadata": {},
   "outputs": [],
   "source": [
    "#Provider Name for provider id\n",
    "prov  = [] \n",
    "for i in df['provider_id']:\n",
    "    if i == 1: \n",
    "        prov.append(\"Amazon\")\n",
    "    elif i == 2: \n",
    "        prov.append(\"Apple\")\n",
    "    elif i == 3: \n",
    "        prov.append(\"Barnes Noble\")\n",
    "    elif i == 4: \n",
    "        prov.append(\"Google Play\")\n",
    "    elif i == 5:\n",
    "        prov.append(\"Kobo\")\n",
    "    elif i == 6:\n",
    "        prov.append(\"Goodreads\")\n",
    "    elif i == 7:\n",
    "        prov.append(\"Walmart\")\n",
    "    elif i == 8:\n",
    "        prov.append(\"Christianbook\")\n",
    "    elif i == 9:\n",
    "        prov.append(\"Amazon UK\")\n",
    "    else:\n",
    "        prov.append(\"Unknown\")"
   ]
  },
  {
   "cell_type": "code",
   "execution_count": null,
   "metadata": {},
   "outputs": [],
   "source": [
    "#Adding a column with the provider name \n",
    "df['Provider_Name'] = prov\n",
    "df['Provider_Name'].unique()"
   ]
  },
  {
   "cell_type": "code",
   "execution_count": null,
   "metadata": {},
   "outputs": [],
   "source": [
    "#Saving Data\n",
    "df.to_csv(\"June2020_Ready.csv\")"
   ]
  },
  {
   "cell_type": "code",
   "execution_count": null,
   "metadata": {},
   "outputs": [],
   "source": []
  }
 ],
 "metadata": {
  "kernelspec": {
   "display_name": "Python 3",
   "language": "python",
   "name": "python3"
  },
  "language_info": {
   "codemirror_mode": {
    "name": "ipython",
    "version": 3
   },
   "file_extension": ".py",
   "mimetype": "text/x-python",
   "name": "python",
   "nbconvert_exporter": "python",
   "pygments_lexer": "ipython3",
   "version": "3.7.6"
  }
 },
 "nbformat": 4,
 "nbformat_minor": 4
}
