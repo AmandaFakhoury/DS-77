{
 "cells": [
  {
   "cell_type": "code",
   "execution_count": null,
   "metadata": {},
   "outputs": [],
   "source": [
    "#Importing Libraries \n",
    "import pandas as pd"
   ]
  },
  {
   "cell_type": "code",
   "execution_count": null,
   "metadata": {},
   "outputs": [],
   "source": [
    "#Year Data is too big so read the data in chunks in order to get a list of chunks of the data\n",
    "data_iterator = pd.read_csv(\"2020Data_Ready.csv\", chunksize=100000)\n",
    "\n",
    "chunk_list = []  \n",
    "\n",
    "# Each chunk is in dataframe format\n",
    "for data_chunk in data_iterator:  \n",
    "    chunk_list.append(data_chunk)\n",
    "    "
   ]
  },
  {
   "cell_type": "code",
   "execution_count": null,
   "metadata": {},
   "outputs": [],
   "source": [
    "#If file contains all publishers and stats are required for all publishers you can skip this step \n",
    "#If you want stats on a specific publisher and the data includes all then run this step \n",
    "#Choosing Guilford for Template \n",
    "df = df.loc[df['name'] == 'Guilford']"
   ]
  },
  {
   "cell_type": "raw",
   "metadata": {},
   "source": [
    "For each statistics we will loop through the chunks of data and specify which columns are needed in order to be able to concat the data together to get one dataframe (even though lots of rows the amount of columns will be less so easier to deal with) "
   ]
  },
  {
   "cell_type": "code",
   "execution_count": null,
   "metadata": {},
   "outputs": [],
   "source": [
    "#Third Party and Fulfillment stats \n",
    "cl_stat1 = [] \n",
    "for chunk in chunk_list: \n",
    "    d = chunk[['Provider_Name', 'name' , 'ean_13' ,'sold_by_third_party', 'fulfilled_by_third_party', 'Month' ]]\n",
    "    cl_stat1.append(d)\n",
    "    \n",
    "stat1_df = pd.concat(cl_stat1) #Concat data    "
   ]
  },
  {
   "cell_type": "code",
   "execution_count": null,
   "metadata": {},
   "outputs": [],
   "source": [
    "#A List of Providers \n",
    "providers = list(stat1_df['Provider_Name'].unique())"
   ]
  },
  {
   "cell_type": "code",
   "execution_count": null,
   "metadata": {},
   "outputs": [],
   "source": [
    "Stats1_Data = [] \n",
    "for prov in providers: \n",
    "    dp = stat1_df.loc[stat1_df['Provider_Name']  == prov]\n",
    "    dp_s = dp.loc[dp['sold_by_third_party'] == 't']\n",
    "    \n",
    "    months = list(dp_s['Month'].unique())\n",
    "    \n",
    "    numb_products_fTTrue = [] \n",
    "    numb_products_fTFalse = [] \n",
    "    \n",
    "    for month in months: \n",
    "        dp_s_d = dp_s.loc[dp_s['Month'] == month]\n",
    "        \n",
    "        #Fulfilled By Third Party True \n",
    "        dt = dp_s_d.loc[dp_s_d['fulfilled_by_third_party'] == 't']\n",
    "        nt = len(dt['ean_13'].unique())\n",
    "        numb_products_fTTrue.append(nt)\n",
    "        \n",
    "        #Fulfilled by Third Party False\n",
    "        dff = dp_s_d.loc[dp_s_d['fulfilled_by_third_party'] == 'f']\n",
    "        nf = len(dff['ean_13'].unique())\n",
    "        numb_products_fTFalse.append(nf)\n",
    "        \n",
    "    stats_p = pd.DataFrame({'Month': months, \n",
    "                            'Products Sold by Third Party & Fulffiled by Third Party': numb_products_fTTrue, \n",
    "                       'Products Sold by Third Party & Not Fulffiled by Third Party' : numb_products_fTFalse})\n",
    "    \n",
    "    stats_p['Provider'] = prov\n",
    "    \n",
    "    Stats1_Data.append(stats_p)\n",
    "    \n",
    "    print(str(prov) + '  is done')"
   ]
  },
  {
   "cell_type": "code",
   "execution_count": null,
   "metadata": {},
   "outputs": [],
   "source": [
    "#Concat Data and adding Domain \n",
    "Stat1_final = pd.concat(Stats1_Data)\n",
    "Stat1_final['Domain'] = 'All Publishers'\n",
    "Stat1_final.to_csv('2020_ThirdParty.csv' , index = False)"
   ]
  },
  {
   "cell_type": "code",
   "execution_count": null,
   "metadata": {},
   "outputs": [],
   "source": [
    "cl_stat2 = [] \n",
    "for chunk in chunk_list: \n",
    "    d = chunk[['Provider_Name', 'name' , 'Month' , 'list_price', 'for_sale_price' ]]\n",
    "    cl_stat2.append(d)\n",
    "    \n",
    "stat2_df = pd.concat(cl_stat2)"
   ]
  },
  {
   "cell_type": "code",
   "execution_count": null,
   "metadata": {},
   "outputs": [],
   "source": [
    "#Divide data by provider \n",
    "providers = list(stat2_df['Provider_Name'].unique())"
   ]
  },
  {
   "cell_type": "code",
   "execution_count": null,
   "metadata": {},
   "outputs": [],
   "source": [
    "#Stat2 % of List Price\n",
    "Stats2_Data = [] \n",
    "for prov in providers: \n",
    "    \n",
    "    dp = stat2_df.loc[stat2_df['Provider_Name']  == prov]\n",
    "    \n",
    "    months = list(dp['Month'].unique())\n",
    "    \n",
    "    \n",
    "    avgListp = [] \n",
    "    avgSalep = [] \n",
    "    avgPercentofList = [] \n",
    "    for month in months: \n",
    "        d = dp.loc[dp['Month'] == month]\n",
    "        avgListp.append(d['list_price'].mean()/ 100)\n",
    "        avgSalep.append(d['for_sale_price'].mean()/ 100)\n",
    "\n",
    "        d['SalePrice'] = d['for_sale_price'] / 100 \n",
    "        d['ListPrice'] = d['list_price'] / 100 \n",
    "\n",
    "        d['ListPrice/SalePrice'] = d['SalePrice']/d['ListPrice']\n",
    "        avgPercentofList.append((d['ListPrice/SalePrice'].mean()))\n",
    "        \n",
    "        \n",
    "    \n",
    "    data2 = pd.DataFrame({'Month': months, \n",
    "                     'Avg List Price': avgListp, \n",
    "                     'Avg Sale Price': avgSalep, \n",
    "                     'Avg % of List Price': avgPercentofList})\n",
    "    \n",
    "    \n",
    "    data2['Avg % of List Price'] = data2['Avg % of List Price'] * 100\n",
    "    \n",
    "    data2['Provider'] = prov\n",
    "    \n",
    "    Stats2_Data.append(data2)\n",
    "    \n",
    "    print(str(prov) + '  is done')"
   ]
  },
  {
   "cell_type": "code",
   "execution_count": null,
   "metadata": {},
   "outputs": [],
   "source": [
    "#Concat Data and adding Domain \n",
    "Stat2_final = pd.concat(Stats2_Data)\n",
    "Stat2_final['Domain'] = 'All Publishers'\n",
    "Stat2_final.to_csv('2020_ListPrice.csv' , index = False)"
   ]
  },
  {
   "cell_type": "code",
   "execution_count": null,
   "metadata": {},
   "outputs": [],
   "source": [
    "#Saving High Priority data \n",
    "with pd.ExcelWriter('AllPublishers_Statistics_DS79_2020Data.xlsx') as writer:  \n",
    "    Stat1_final.to_excel(writer, sheet_name='Third Party Seller')\n",
    "    Stat2_final.to_excel(writer, sheet_name='Avg % of List Price')\n",
    "    #Stat3_final.to_excel(writer, sheet_name='Number of New Reviews')"
   ]
  },
  {
   "cell_type": "markdown",
   "metadata": {},
   "source": [
    "## Low Priority "
   ]
  },
  {
   "cell_type": "code",
   "execution_count": null,
   "metadata": {},
   "outputs": [],
   "source": [
    "cl_stat3 = [] \n",
    "for chunk in chunk_list: \n",
    "    d = chunk[['Provider_Name', 'name' , 'Month' , 'ean_13', 'found' ]]\n",
    "    cl_stat3.append(d)\n",
    "    \n",
    "    \n",
    "stat3_df = pd.concat(cl_stat3)"
   ]
  },
  {
   "cell_type": "code",
   "execution_count": null,
   "metadata": {},
   "outputs": [],
   "source": [
    "#Divide data by provider \n",
    "providers = list(stat3_df['Provider_Name'].unique())"
   ]
  },
  {
   "cell_type": "code",
   "execution_count": null,
   "metadata": {},
   "outputs": [],
   "source": [
    "#Total unique products not found by provider \n",
    "Stats3_Data = [] \n",
    "for prov in providers: \n",
    "    dp = stat3_df.loc[stat3_df['Provider_Name']  == prov]\n",
    "    \n",
    "    dp_f = dp.loc[dp['found'] == 'f']\n",
    "    \n",
    "    months = list(dp_f['Month'].unique())\n",
    "    \n",
    "    numb_products = [] \n",
    "    \n",
    "    for month in months: \n",
    "        dp_s_d = dp_f.loc[dp_f['Month'] == month]\n",
    "        \n",
    "        n = len(dp_s_d['ean_13'].unique())\n",
    "        numb_products.append(n)\n",
    "        \n",
    "        \n",
    "    stats_p = pd.DataFrame({'Month': months, \n",
    "                            'Number of Products Not Found': numb_products})\n",
    "    \n",
    "    stats_p['Provider'] = prov\n",
    "    \n",
    "    Stats3_Data.append(stats_p)\n",
    "    print(str(prov) + '  is done')\n",
    "    "
   ]
  },
  {
   "cell_type": "code",
   "execution_count": null,
   "metadata": {},
   "outputs": [],
   "source": [
    "#Concat Data and adding Domain \n",
    "Stat3_final = pd.concat(Stats3_Data)\n",
    "Stat3_final['Domain'] = 'All Publishers'\n",
    "Stat3_final.to_csv(\"2020_found.csv\" , index = False)"
   ]
  },
  {
   "cell_type": "code",
   "execution_count": null,
   "metadata": {},
   "outputs": [],
   "source": [
    "#Stats 4 : Columns needed {provider name , name , month , ean13 , has buy button}\n",
    "\n",
    "cl_stat4 = [] \n",
    "for chunk in chunk_list: \n",
    "    d = chunk[['Provider_Name', 'name' , 'Month' , 'ean_13', 'has_buy_button' ]]\n",
    "    cl_stat4.append(d)\n",
    "    \n",
    "    \n",
    "stat4_df = pd.concat(cl_stat4)"
   ]
  },
  {
   "cell_type": "code",
   "execution_count": null,
   "metadata": {},
   "outputs": [],
   "source": [
    "#Divide data by provider \n",
    "providers = list(stat4_df['Provider_Name'].unique())"
   ]
  },
  {
   "cell_type": "code",
   "execution_count": null,
   "metadata": {},
   "outputs": [],
   "source": [
    "#Total unique products missing buy button by provider\n",
    "Stats4_Data = [] \n",
    "for prov in providers: \n",
    "    dp = stat4_df.loc[stat4_df['Provider_Name']  == prov]\n",
    "    \n",
    "    dp_f = dp.loc[dp['has_buy_button'] == 'f']\n",
    "    \n",
    "    months = list(dp_f['Month'].unique())\n",
    "    \n",
    "    numb_products = [] \n",
    "    \n",
    "    for month in months: \n",
    "        dp_s_d = dp_f.loc[dp_f['Month'] == month]\n",
    "        \n",
    "        n = len(dp_s_d['ean_13'].unique())\n",
    "        numb_products.append(n)\n",
    "        \n",
    "        \n",
    "    stats_p = pd.DataFrame({'Month': months,  \n",
    "                            'Number of Products Missing Buy Button': numb_products})\n",
    "    \n",
    "    stats_p['Provider'] = prov\n",
    "    \n",
    "    Stats4_Data.append(stats_p)\n",
    "    \n",
    "    print(str(prov) + '  is done')"
   ]
  },
  {
   "cell_type": "code",
   "execution_count": null,
   "metadata": {},
   "outputs": [],
   "source": [
    "#Concat Data and adding Domain \n",
    "Stat4_final = pd.concat(Stats4_Data)\n",
    "Stat4_final['Domain'] = 'All Publishers'\n",
    "Stat4_final.to_csv(\"2020_BuyButton.csv\" , index = False)"
   ]
  },
  {
   "cell_type": "code",
   "execution_count": null,
   "metadata": {},
   "outputs": [],
   "source": [
    "#Stats 3 : Columns needed {provider name , name , month , ean13 , found}\n",
    "\n",
    "cl_stat5 = [] \n",
    "for chunk in chunk_list: \n",
    "    d = chunk[['Provider_Name', 'name' , 'Month' , 'ean_13', 'available_new' ]]\n",
    "    cl_stat5.append(d)\n",
    "    \n",
    "    \n",
    "stat5_df = pd.concat(cl_stat5)"
   ]
  },
  {
   "cell_type": "code",
   "execution_count": null,
   "metadata": {},
   "outputs": [],
   "source": [
    "#Total unique products not available new - Amazon only\n",
    "Stats5_Data = [] \n",
    "amazon = stat5_df.loc[stat5_df['Provider_Name']  == 'Amazon']\n",
    "amazon_1 = amazon.loc[amazon['available_new'] == 'f']\n",
    "months = list(amazon_1['Month'].unique())\n",
    "numb_products = [] \n",
    "for month in months: \n",
    "    dp_s_d = amazon_1.loc[amazon_1['Month'] == month ]\n",
    "    n = len(dp_s_d['ean_13'].unique())\n",
    "    numb_products.append(n)\n",
    "        \n",
    "        \n",
    "stats_a = pd.DataFrame({'Month': months, \n",
    "                        'Number of Products not Available New': numb_products})\n",
    "    \n",
    "stats_a['Provider'] = 'Amazon'\n",
    "    \n",
    "Stats5_Data.append(stats_a)"
   ]
  },
  {
   "cell_type": "code",
   "execution_count": null,
   "metadata": {},
   "outputs": [],
   "source": [
    "#Concat Data and adding Domain \n",
    "Stat5_final = pd.concat(Stats5_Data)\n",
    "Stat5_final['Domain'] = 'All Publishers'\n",
    "Stat5_final.to_csv(\"2020_availablenew.csv\" , index = False)"
   ]
  },
  {
   "cell_type": "code",
   "execution_count": null,
   "metadata": {},
   "outputs": [],
   "source": [
    "#Stats 3 : Columns needed {provider name , name , month , ean13 , found}\n",
    "\n",
    "cl_stat6 = [] \n",
    "for chunk in chunk_list: \n",
    "    d = chunk[['Provider_Name', 'name' , 'Month' , 'ean_13', 'list_price' ]]\n",
    "    cl_stat6.append(d)\n",
    "    \n",
    "    \n",
    "stat6_df = pd.concat(cl_stat6)"
   ]
  },
  {
   "cell_type": "code",
   "execution_count": null,
   "metadata": {},
   "outputs": [],
   "source": [
    "#Divide data by provider \n",
    "providers = list(stat6_df['Provider_Name'].unique())"
   ]
  },
  {
   "cell_type": "code",
   "execution_count": null,
   "metadata": {},
   "outputs": [],
   "source": [
    "Stats6_Data = [] \n",
    "for prov in providers: \n",
    "    dp = stat6_df.loc[stat6_df['Provider_Name']  == prov]\n",
    "    \n",
    "    dp1 = dp[['Month', 'Provider_Name' , 'ean_13' , 'list_price']]\n",
    "    \n",
    "    #\n",
    "    \n",
    "    eans = list(dp1['ean_13'].unique())\n",
    "    \n",
    "    data = []\n",
    "    for i in eans: \n",
    "        d = dp1.loc[dp1['ean_13'] == i]\n",
    "        d1 = d[['Month', 'list_price']]\n",
    "\n",
    "        d2 = d1.set_index('Month').diff()\n",
    "        d2 = d2.reset_index()\n",
    "\n",
    "        d2['ean_13'] = i\n",
    "\n",
    "        data.append(d2)\n",
    "        \n",
    "    final = pd.concat(data)\n",
    "    \n",
    "    months = list(final['Month'].unique())\n",
    "    \n",
    "    \n",
    "    numbproducts = [] \n",
    "    \n",
    "    \n",
    "    for month in months: \n",
    "        d = final.loc[final['Month'] == month]\n",
    "        dt = d.loc[d['list_price'] > 0]\n",
    "        numbproducts.append(len(dt['ean_13'].unique()))\n",
    "    \n",
    "    \n",
    "    dataF = pd.DataFrame({'Month':months, \n",
    "                         'Number of Products List Change': numbproducts})\n",
    "    \n",
    "    \n",
    "    dataF['Provider'] = prov\n",
    "    \n",
    "    Stats6_Data.append(dataF)  \n",
    "    \n",
    "    print(str(prov) + 'is done')"
   ]
  },
  {
   "cell_type": "code",
   "execution_count": null,
   "metadata": {},
   "outputs": [],
   "source": [
    "#Concat Data and adding Domain \n",
    "Stat6_final = pd.concat(Stats6_Data)\n",
    "Stat6_final['Domain'] = 'All Publishers'\n",
    "Stat6_final.to_csv(\"2020_listpricechange.csv\" , index = False)"
   ]
  },
  {
   "cell_type": "code",
   "execution_count": null,
   "metadata": {},
   "outputs": [],
   "source": [
    "#Saving Low Priority stats as an excel File \n",
    "with pd.ExcelWriter('FileName....') as writer:  #Set A name for the file \n",
    "    Stat3_final.to_excel(writer, sheet_name='Not Found')\n",
    "    Stat4_final.to_excel(writer, sheet_name='Missing Buy Button')\n",
    "    Stat5_final.to_excel(writer, sheet_name='Not Available New(Amazon)')\n",
    "    Stat6_final.to_excel(writer, sheet_name='List Price Change')"
   ]
  },
  {
   "cell_type": "code",
   "execution_count": null,
   "metadata": {},
   "outputs": [],
   "source": []
  }
 ],
 "metadata": {
  "kernelspec": {
   "display_name": "Python 3",
   "language": "python",
   "name": "python3"
  },
  "language_info": {
   "codemirror_mode": {
    "name": "ipython",
    "version": 3
   },
   "file_extension": ".py",
   "mimetype": "text/x-python",
   "name": "python",
   "nbconvert_exporter": "python",
   "pygments_lexer": "ipython3",
   "version": "3.7.6"
  }
 },
 "nbformat": 4,
 "nbformat_minor": 4
}
