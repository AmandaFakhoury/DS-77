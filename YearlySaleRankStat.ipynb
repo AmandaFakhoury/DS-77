{
 "cells": [
  {
   "cell_type": "code",
   "execution_count": null,
   "metadata": {},
   "outputs": [],
   "source": [
    "#Importing Libraries \n",
    "import pandas as pd"
   ]
  },
  {
   "cell_type": "code",
   "execution_count": null,
   "metadata": {},
   "outputs": [],
   "source": [
    "#Reading Data Frame\n",
    "df = pd.read_csv(\"2020Data_rank.csv\")"
   ]
  },
  {
   "cell_type": "code",
   "execution_count": null,
   "metadata": {},
   "outputs": [],
   "source": [
    "#Choosing Specific publisher if needed \n",
    "df = df.loc[df['name'] == 'Workman']"
   ]
  },
  {
   "cell_type": "code",
   "execution_count": null,
   "metadata": {},
   "outputs": [],
   "source": [
    "#Getting a list of providers \n",
    "providers = list(df['Provider_Name'].unique())\n",
    "providers"
   ]
  },
  {
   "cell_type": "code",
   "execution_count": null,
   "metadata": {},
   "outputs": [],
   "source": [
    "#Top 10 Titles for Month \n",
    "Top10_Rank = [] \n",
    "for prov in providers: \n",
    "    dp = df.loc[df['Provider_Name']  == prov]\n",
    "    \n",
    "    db = dp.loc[dp['category'] == 'Books']\n",
    "    \n",
    "    db = db[['name', 'Provider_Name','Month','ean_13', 'sales_rank']]\n",
    "    \n",
    "    months = list(db['Month'].unique())\n",
    "    \n",
    "    datt = []\n",
    "    for month in months:\n",
    "        \n",
    "        dm = db.loc[db['Month'] == month]\n",
    "        \n",
    "    \n",
    "        eans = list(dm['ean_13'].unique())\n",
    "    \n",
    "        avgrank = [] \n",
    "        for i in eans: \n",
    "            d = dm.loc[dm['ean_13'] == i]\n",
    "            avgrank.append(d['sales_rank'].mean())\n",
    "\n",
    "        dat = pd.DataFrame({'ean_13': eans, \n",
    "                           'Avg Sale Rank': avgrank})\n",
    "        \n",
    "        dat['Month'] = month \n",
    "        \n",
    "        \n",
    "        datt.append(dat)\n",
    "        \n",
    "    \n",
    "    try :    \n",
    "        dt = pd.concat(datt)\n",
    "\n",
    "        top10 = [] \n",
    "        top10.append(dt.nsmallest(10, 'Avg Sale Rank'))\n",
    "\n",
    "        data = pd.concat(top10)\n",
    "\n",
    "        data['Provider_Name'] = prov\n",
    "\n",
    "        Top10_Rank.append(data)\n",
    "    except : \n",
    "        pass\n",
    "\n",
    "    print(str(prov) + ' is done')\n"
   ]
  },
  {
   "cell_type": "code",
   "execution_count": null,
   "metadata": {},
   "outputs": [],
   "source": [
    "#Concat Data and adding Domain \n",
    "Top10Rank_Stats = pd.concat([Amazon , Bn])\n",
    "Top10Rank_Stats.to_csv(\"2020_Top10RankStats.csv\" , index = False)"
   ]
  },
  {
   "cell_type": "code",
   "execution_count": null,
   "metadata": {},
   "outputs": [],
   "source": [
    "#Number of titles have a rank of 100 or lower any category \n",
    "Stats_2 = [] \n",
    "for prov in providers: \n",
    "    dp = df.loc[df['Provider_Name']  == prov]\n",
    "    \n",
    "    months = list(dp['Month'].unique())\n",
    "    \n",
    "    numbtitles = [] \n",
    "    \n",
    "    for month in months: \n",
    "        dp_s_d = dp.loc[dp['Month'] == month]\n",
    "        \n",
    "        n = len(dp_s_d.loc[dp_s_d['sales_rank'] <= 100]['ean_13'].unique())\n",
    "        \n",
    "        \n",
    "        numbtitles.append(n)\n",
    "    \n",
    "    data = pd.DataFrame({'Month': months, \n",
    "                        'Number of Titles with Rank <= 100' : numbtitles})\n",
    "    \n",
    "    data['Provider_Name'] = prov\n",
    "        \n",
    "    \n",
    "    Stats_2.append(data)\n",
    "    \n",
    "    print(str(prov) + ' is done')"
   ]
  },
  {
   "cell_type": "code",
   "execution_count": null,
   "metadata": {},
   "outputs": [],
   "source": [
    "#Concat Data and adding Domain \n",
    "Top100_Stats = pd.concat(Stats_2)\n",
    "Top100_Stats.to_csv(\"2020_Top100Stats.csv\" , index = False)"
   ]
  },
  {
   "cell_type": "code",
   "execution_count": null,
   "metadata": {},
   "outputs": [],
   "source": [
    "with pd.ExcelWriter('AllPublishers_SaleRankStats_DS79_2020.xlsx') as writer:  \n",
    "    Top10Rank_Stats.to_excel(writer, sheet_name='Top 10 titles Week Rank (Books)')\n",
    "    Top100_Stats.to_excel(writer, sheet_name = 'Number of Titles Rank <= 100')"
   ]
  },
  {
   "cell_type": "code",
   "execution_count": null,
   "metadata": {},
   "outputs": [],
   "source": []
  }
 ],
 "metadata": {
  "kernelspec": {
   "display_name": "Python 3",
   "language": "python",
   "name": "python3"
  },
  "language_info": {
   "codemirror_mode": {
    "name": "ipython",
    "version": 3
   },
   "file_extension": ".py",
   "mimetype": "text/x-python",
   "name": "python",
   "nbconvert_exporter": "python",
   "pygments_lexer": "ipython3",
   "version": "3.7.6"
  }
 },
 "nbformat": 4,
 "nbformat_minor": 4
}
