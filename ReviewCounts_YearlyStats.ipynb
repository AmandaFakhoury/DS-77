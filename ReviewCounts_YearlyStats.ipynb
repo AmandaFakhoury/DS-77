{
 "cells": [
  {
   "cell_type": "code",
   "execution_count": null,
   "metadata": {},
   "outputs": [],
   "source": [
    "#Importing Libraries\n",
    "import pandas as pd"
   ]
  },
  {
   "cell_type": "code",
   "execution_count": null,
   "metadata": {},
   "outputs": [],
   "source": [
    "#Year Data is too big so read the data in chunks in order to get a list of chunks of the data\n",
    "data_iterator = pd.read_csv(\"2020Data_Ready.csv\", chunksize=100000)\n",
    "\n",
    "chunk_list = []  \n",
    "\n",
    "# Each chunk is in dataframe format\n",
    "for data_chunk in data_iterator:  \n",
    "    chunk_list.append(data_chunk)"
   ]
  },
  {
   "cell_type": "code",
   "execution_count": null,
   "metadata": {},
   "outputs": [],
   "source": [
    "#Choosing Specific Columns to focus on \n",
    "cl_stat1 = [] \n",
    "for chunk in chunk_list: \n",
    "    d = chunk[[ 'ean_13' , 'name' , 'Provider_Name', 'reviews_1_star',\n",
    "       'reviews_2_star', 'reviews_3_star', 'reviews_4_star', 'reviews_5_star', 'review_count', 'Year', 'Month', 'Day']]\n",
    "    cl_stat1.append(d)\n",
    "    \n",
    "    \n",
    "stat1_df = pd.concat(cl_stat1)"
   ]
  },
  {
   "cell_type": "code",
   "execution_count": null,
   "metadata": {},
   "outputs": [],
   "source": [
    "## Placing Amazon in its own dataframe as well as Good reads \n",
    "Amazon = stat1_df.loc[stat1_df['Provider_Name'] == 'Amazon']\n",
    "Goodreads = stat1_df.loc[stat1_df['Provider_Name'] == 'Goodreads']"
   ]
  },
  {
   "cell_type": "code",
   "execution_count": null,
   "metadata": {},
   "outputs": [],
   "source": [
    "#Placing all other providers in a list \n",
    "Providers = ['Apple',\n",
    " 'Barnes Noble',\n",
    " 'Google Play',\n",
    " 'Kobo',\n",
    " 'Walmart',\n",
    " 'Christianbook',\n",
    " 'Amazon UK']"
   ]
  },
  {
   "cell_type": "code",
   "execution_count": null,
   "metadata": {},
   "outputs": [],
   "source": [
    "#Amazon Review Star 1 through 5 is scraped in percent form therefore a calculation is needed in order to get the correct number \n",
    "Amazon['Star1'] = (Amazon['reviews_1_star'] * Amazon['review_count']) / 100\n",
    "Amazon['Star2'] = (Amazon['reviews_2_star'] * Amazon['review_count']) / 100\n",
    "Amazon['Star3'] = (Amazon['reviews_3_star'] * Amazon['review_count']) / 100\n",
    "Amazon['Star4'] = (Amazon['reviews_4_star'] * Amazon['review_count']) / 100\n",
    "Amazon['Star5'] = (Amazon['reviews_5_star'] * Amazon['review_count']) / 100\n",
    "\n",
    "Amazon = Amazon[['ean_13', 'name', 'Provider_Name',  'Star1', 'Star2', 'Star3', 'Star4', 'Star5',\n",
    "                 'review_count','Year', 'Month', 'Day', ]]"
   ]
  },
  {
   "cell_type": "code",
   "execution_count": null,
   "metadata": {},
   "outputs": [],
   "source": [
    "#Renaming columns in Guilford so all data can have the same column names and same order fo columns\n",
    "Goodreads.rename(columns={'reviews_1_star': 'Star1',  'reviews_2_star': 'Star2', 'reviews_3_star': 'Star3' , 'reviews_4_star': 'Star4', 'reviews_5_star': 'Star5' }, inplace=True)\n",
    "Goodreads = Goodreads[['ean_13', 'name', 'Provider_Name',  'Star1', 'Star2', 'Star3', 'Star4', 'Star5',\n",
    "                 'review_count','Year', 'Month', 'Day']]"
   ]
  },
  {
   "cell_type": "code",
   "execution_count": null,
   "metadata": {},
   "outputs": [],
   "source": [
    "data = [] \n",
    "for prov in Providers: \n",
    "    \n",
    "    dp = stat1_df.loc[stat1_df['Provider_Name']  == prov]\n",
    "    \n",
    "    dp.rename(columns={'reviews_1_star': 'Star1',  'reviews_2_star': 'Star2', 'reviews_3_star': 'Star3' , 'reviews_4_star': 'Star4', 'reviews_5_star': 'Star5' }, inplace=True)\n",
    "    dp = dp[['ean_13', 'name', 'Provider_Name',  'Star1', 'Star2', 'Star3', 'Star4', 'Star5',\n",
    "                 'review_count','Year', 'Month', 'Day']]\n",
    "    \n",
    "    data.append(dp)\n",
    "    print(str(prov) + ' is done')"
   ]
  },
  {
   "cell_type": "code",
   "execution_count": null,
   "metadata": {},
   "outputs": [],
   "source": [
    "#Concating all dataframes to get one final dataframe\n",
    "rest = pd.concat(data)\n",
    "final = pd.concat([Amazon, Goodreads, rest])"
   ]
  },
  {
   "cell_type": "code",
   "execution_count": null,
   "metadata": {},
   "outputs": [],
   "source": [
    "#List of providers \n",
    "providers = list(final['Provider_Name'].unique())"
   ]
  },
  {
   "cell_type": "code",
   "execution_count": null,
   "metadata": {},
   "outputs": [],
   "source": [
    "#Stats 3 Number of New Reviews\n",
    "Stats3_Data = [] \n",
    "for prov in providers: \n",
    "    \n",
    "    dp = final.loc[final['Provider_Name']  == prov]\n",
    "    \n",
    "    months = list(dp['Month'].unique())\n",
    "    \n",
    "    review_count = []  \n",
    "    review1star = [] \n",
    "    review2star = [] \n",
    "    review3star = [] \n",
    "    review4star = [] \n",
    "    review5star = [] \n",
    "    for month in months: \n",
    "        d = dp.loc[dp['Month'] == month]\n",
    "        review_count.append(d['review_count'].sum())\n",
    "        review1star.append(d['Star1'].sum())\n",
    "        review2star.append(d['Star2'].sum())\n",
    "        review3star.append(d['Star3'].sum())\n",
    "        review4star.append(d['Star4'].sum())\n",
    "        review5star.append(d['Star5'].sum())\n",
    "        \n",
    "    data = pd.DataFrame({'Month': months, \n",
    "                     'ReviewCount': review_count, \n",
    "                     'review_1Star': review1star,\n",
    "                     'review_2Star': review2star, \n",
    "                     'review_3Star': review3star, \n",
    "                     'review_4Star': review4star, \n",
    "                     'review_5Star': review5star})\n",
    "    \n",
    "    \n",
    "    d1 = data.set_index('Month').diff()\n",
    "    d1 = d1.reset_index()\n",
    "    \n",
    "    d1['Provider'] = prov\n",
    "    \n",
    "    Stats3_Data.append(d1)\n",
    "    \n",
    "    print(str(prov)  + ' is done')"
   ]
  },
  {
   "cell_type": "code",
   "execution_count": null,
   "metadata": {},
   "outputs": [],
   "source": [
    "#Concat Data and adding Domain \n",
    "Stat3_final = pd.concat(Stats3_Data)\n",
    "Stat3_final['Domain'] ='All Publishers'\n",
    "Stat3_final.to_csv('2020_Reviews.csv' , index = False)"
   ]
  },
  {
   "cell_type": "code",
   "execution_count": null,
   "metadata": {},
   "outputs": [],
   "source": [
    "#Save to Excel \n",
    "with pd.ExcelWriter('AllPublishers_ReviewCount_DS79_2020.xlsx') as writer:  \n",
    "    Stat3_final.to_excel(writer, sheet_name='Number of New Reviews')"
   ]
  },
  {
   "cell_type": "code",
   "execution_count": null,
   "metadata": {},
   "outputs": [],
   "source": []
  }
 ],
 "metadata": {
  "kernelspec": {
   "display_name": "Python 3",
   "language": "python",
   "name": "python3"
  },
  "language_info": {
   "codemirror_mode": {
    "name": "ipython",
    "version": 3
   },
   "file_extension": ".py",
   "mimetype": "text/x-python",
   "name": "python",
   "nbconvert_exporter": "python",
   "pygments_lexer": "ipython3",
   "version": "3.7.6"
  }
 },
 "nbformat": 4,
 "nbformat_minor": 4
}
