{
 "cells": [
  {
   "cell_type": "code",
   "execution_count": null,
   "metadata": {},
   "outputs": [],
   "source": [
    "#Importing Libraries\n",
    "import pandas as pd"
   ]
  },
  {
   "cell_type": "code",
   "execution_count": null,
   "metadata": {},
   "outputs": [],
   "source": [
    "#Reading Dataframe \n",
    "df = pd.read_csv(\"Workman.csv\")"
   ]
  },
  {
   "cell_type": "code",
   "execution_count": null,
   "metadata": {},
   "outputs": [],
   "source": [
    "#Choosing Specific columns to focus on \n",
    "df = df[[ 'ean_13' , 'name' , 'Provider_Name', 'reviews_1_star',\n",
    "       'reviews_2_star', 'reviews_3_star', 'reviews_4_star', 'reviews_5_star', 'review_count', 'Year', 'Month', 'Day']]"
   ]
  },
  {
   "cell_type": "code",
   "execution_count": null,
   "metadata": {},
   "outputs": [],
   "source": [
    "#List of providers \n",
    "Providers = list(df['Provider_Name'].unique())\n",
    "Providers"
   ]
  },
  {
   "cell_type": "code",
   "execution_count": null,
   "metadata": {},
   "outputs": [],
   "source": [
    "## Review Star 1 Through 5 (Amazon & GoodReads)\n",
    "Amazon = df.loc[df['Provider_Name'] == 'Amazon']\n",
    "Goodreads = df.loc[df['Provider_Name'] == 'Goodreads']"
   ]
  },
  {
   "cell_type": "code",
   "execution_count": null,
   "metadata": {},
   "outputs": [],
   "source": [
    "#Placing all other providers in a list \n",
    "Providers = ['Christianbook',\n",
    " 'Walmart',\n",
    " 'Kobo',\n",
    " 'Google Play',\n",
    " 'Barnes Noble',\n",
    " 'Apple']"
   ]
  },
  {
   "cell_type": "code",
   "execution_count": null,
   "metadata": {},
   "outputs": [],
   "source": [
    "#Amazon Review Star 1 through 5 is scraped in percent form therefore a calculation is needed in order to get the correct number \n",
    "Amazon['Star1'] = (Amazon['reviews_1_star'] * Amazon['review_count']) / 100\n",
    "Amazon['Star2'] = (Amazon['reviews_2_star'] * Amazon['review_count']) / 100\n",
    "Amazon['Star3'] = (Amazon['reviews_3_star'] * Amazon['review_count']) / 100\n",
    "Amazon['Star4'] = (Amazon['reviews_4_star'] * Amazon['review_count']) / 100\n",
    "Amazon['Star5'] = (Amazon['reviews_5_star'] * Amazon['review_count']) / 100\n",
    "\n",
    "Amazon = Amazon[['ean_13', 'name', 'Provider_Name',  'Star1', 'Star2', 'Star3', 'Star4', 'Star5',\n",
    "                 'review_count','Year', 'Month', 'Day', ]]"
   ]
  },
  {
   "cell_type": "code",
   "execution_count": null,
   "metadata": {},
   "outputs": [],
   "source": [
    "#Renaming columns in Guilford so all data can have the same column names and same order fo columns\n",
    "Goodreads.rename(columns={'reviews_1_star': 'Star1',  'reviews_2_star': 'Star2', 'reviews_3_star': 'Star3' , 'reviews_4_star': 'Star4', 'reviews_5_star': 'Star5' }, inplace=True)\n",
    "Goodreads = Goodreads[['ean_13', 'name', 'Provider_Name',  'Star1', 'Star2', 'Star3', 'Star4', 'Star5',\n",
    "                 'review_count','Year', 'Month', 'Day']]"
   ]
  },
  {
   "cell_type": "code",
   "execution_count": null,
   "metadata": {},
   "outputs": [],
   "source": [
    "#Changing columns for rest of providers \n",
    "data = [] \n",
    "for prov in Providers: \n",
    "    \n",
    "    dp = df.loc[df['Provider_Name']  == prov]\n",
    "    \n",
    "    dp.rename(columns={'reviews_1_star': 'Star1',  'reviews_2_star': 'Star2', 'reviews_3_star': 'Star3' , 'reviews_4_star': 'Star4', 'reviews_5_star': 'Star5' }, inplace=True)\n",
    "    dp = dp[['ean_13', 'name', 'Provider_Name',  'Star1', 'Star2', 'Star3', 'Star4', 'Star5',\n",
    "                 'review_count','Year', 'Month', 'Day']]\n",
    "    \n",
    "    data.append(dp)\n",
    "    print(str(prov) + ' is done')"
   ]
  },
  {
   "cell_type": "code",
   "execution_count": null,
   "metadata": {},
   "outputs": [],
   "source": [
    "#Concating all dataframes to get one final dataframe\n",
    "rest = pd.concat(data)\n",
    "final = pd.concat([Amazon, Goodreads, rest])"
   ]
  },
  {
   "cell_type": "code",
   "execution_count": null,
   "metadata": {},
   "outputs": [],
   "source": [
    "#List of providers \n",
    "providers = list(final['Provider_Name'].unique())"
   ]
  },
  {
   "cell_type": "code",
   "execution_count": null,
   "metadata": {},
   "outputs": [],
   "source": [
    "#Stats 3 Number of New Reviews\n",
    "Stats3_Data = [] \n",
    "for prov in providers: \n",
    "    \n",
    "    dp = final.loc[final['Provider_Name']  == prov] \n",
    "    \n",
    "    days = list(dp['Day'].unique())\n",
    "    \n",
    "    review_count = []  \n",
    "    review1star = [] \n",
    "    review2star = [] \n",
    "    review3star = [] \n",
    "    review4star = [] \n",
    "    review5star = [] \n",
    "    for day in days: \n",
    "        d = dp.loc[dp['Day'] == day]\n",
    "        review_count.append(d['review_count'].sum())\n",
    "        review1star.append(d['Star1'].sum())\n",
    "        review2star.append(d['Star2'].sum())\n",
    "        review3star.append(d['Star3'].sum())\n",
    "        review4star.append(d['Star4'].sum())\n",
    "        review5star.append(d['Star5'].sum())\n",
    "        \n",
    "    data = pd.DataFrame({'Days': days, \n",
    "                     'ReviewCount': review_count, \n",
    "                     'review_1Star': review1star,\n",
    "                     'review_2Star': review2star, \n",
    "                     'review_3Star': review3star, \n",
    "                     'review_4Star': review4star, \n",
    "                     'review_5Star': review5star})\n",
    "    \n",
    "    \n",
    "    d1 = data.set_index('Days').diff()\n",
    "    d1 = d1.reset_index()\n",
    "    \n",
    "    d1['Provider'] = prov\n",
    "    \n",
    "    Stats3_Data.append(d1)"
   ]
  },
  {
   "cell_type": "code",
   "execution_count": null,
   "metadata": {},
   "outputs": [],
   "source": [
    "#Concat Data and adding Domain \n",
    "Stat3_final = pd.concat(Stats3_Data)\n",
    "Stat3_final['Domain'] ='Workman'\n",
    "Stat3_final.to_csv('June_Reviews.csv' , index = False)"
   ]
  },
  {
   "cell_type": "code",
   "execution_count": null,
   "metadata": {},
   "outputs": [],
   "source": [
    "#Save to Excel \n",
    "with pd.ExcelWriter('Workman_ReviewCount_DS77_June2020.xlsx') as writer:  \n",
    "    Stat3_final.to_excel(writer, sheet_name='Number of New Reviews')"
   ]
  },
  {
   "cell_type": "code",
   "execution_count": null,
   "metadata": {},
   "outputs": [],
   "source": []
  }
 ],
 "metadata": {
  "kernelspec": {
   "display_name": "Python 3",
   "language": "python",
   "name": "python3"
  },
  "language_info": {
   "codemirror_mode": {
    "name": "ipython",
    "version": 3
   },
   "file_extension": ".py",
   "mimetype": "text/x-python",
   "name": "python",
   "nbconvert_exporter": "python",
   "pygments_lexer": "ipython3",
   "version": "3.7.6"
  }
 },
 "nbformat": 4,
 "nbformat_minor": 4
}
